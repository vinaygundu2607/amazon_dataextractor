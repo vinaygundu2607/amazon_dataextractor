{
 "cells": [
  {
   "cell_type": "code",
   "execution_count": 46,
   "metadata": {},
   "outputs": [],
   "source": [
    "from selenium import webdriver\n",
    "from selenium.webdriver.common.by import By"
   ]
  },
  {
   "cell_type": "code",
   "execution_count": 47,
   "metadata": {},
   "outputs": [],
   "source": [
    "dr = webdriver.Chrome()"
   ]
  },
  {
   "cell_type": "code",
   "execution_count": null,
   "metadata": {},
   "outputs": [],
   "source": []
  },
  {
   "cell_type": "code",
   "execution_count": 48,
   "metadata": {},
   "outputs": [],
   "source": [
    "dr.get(\"http:/youtube.com\")"
   ]
  },
  {
   "cell_type": "code",
   "execution_count": 49,
   "metadata": {},
   "outputs": [],
   "source": [
    "search =dr.find_element(By.XPATH,\"//input[@role='combobox']\")"
   ]
  },
  {
   "cell_type": "code",
   "execution_count": 50,
   "metadata": {},
   "outputs": [],
   "source": [
    "search.send_keys(\"MrBeast\")"
   ]
  },
  {
   "cell_type": "code",
   "execution_count": 51,
   "metadata": {},
   "outputs": [],
   "source": [
    "button=dr.find_element(By.XPATH,\"//button[@title='Search']//yt-icon//div\")"
   ]
  },
  {
   "cell_type": "code",
   "execution_count": 52,
   "metadata": {},
   "outputs": [],
   "source": [
    "button.click()"
   ]
  },
  {
   "cell_type": "code",
   "execution_count": 56,
   "metadata": {},
   "outputs": [],
   "source": [
    "channel=dr.find_element(By.XPATH,\"//div[@id='avatar']\")"
   ]
  },
  {
   "cell_type": "code",
   "execution_count": 57,
   "metadata": {},
   "outputs": [],
   "source": [
    "channel.click()"
   ]
  },
  {
   "cell_type": "code",
   "execution_count": 58,
   "metadata": {},
   "outputs": [],
   "source": [
    "data=dr.find_element(By.XPATH,\"//body[1]/ytd-app[1]/div[1]/ytd-page-manager[1]/ytd-browse[2]/ytd-two-column-browse-results-renderer[1]/div[1]/ytd-section-list-renderer[1]/div[2]/ytd-item-section-renderer[2]/div[3]/ytd-shelf-renderer[1]/div[1]/div[2]/yt-horizontal-list-renderer[1]/div[2]/div[1]/div[1]\")"
   ]
  },
  {
   "cell_type": "code",
   "execution_count": 59,
   "metadata": {},
   "outputs": [
    {
     "name": "stdout",
     "output_type": "stream",
     "text": [
      "Every Minute One Person Is Eliminated\n",
      "MrBeast\n",
      "58M views\n",
      "4 days ago\n",
      "CC\n",
      "I Helped 2,000 People Walk Again\n",
      "MrBeast\n",
      "77M views\n",
      "2 weeks ago\n",
      "CC\n",
      "2,000 People Fight For $5,000,000\n",
      "MrBeast\n",
      "154M views\n",
      "1 month ago\n",
      "CC\n",
      "Beat Ronaldo, Win $1,000,000\n",
      "MrBeast\n",
      "206M views\n",
      "1 month ago\n",
      "CC\n"
     ]
    }
   ],
   "source": [
    "print(data.text)"
   ]
  }
 ],
 "metadata": {
  "kernelspec": {
   "display_name": "Python 3",
   "language": "python",
   "name": "python3"
  },
  "language_info": {
   "codemirror_mode": {
    "name": "ipython",
    "version": 3
   },
   "file_extension": ".py",
   "mimetype": "text/x-python",
   "name": "python",
   "nbconvert_exporter": "python",
   "pygments_lexer": "ipython3",
   "version": "3.13.1"
  }
 },
 "nbformat": 4,
 "nbformat_minor": 2
}
